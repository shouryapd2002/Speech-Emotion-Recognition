{
  "nbformat": 4,
  "nbformat_minor": 0,
  "metadata": {
    "colab": {
      "provenance": []
    },
    "kernelspec": {
      "name": "python3",
      "display_name": "Python 3"
    },
    "language_info": {
      "name": "python"
    }
  },
  "cells": [
    {
      "cell_type": "code",
      "execution_count": null,
      "metadata": {
        "id": "9JFakAU7yUav"
      },
      "outputs": [],
      "source": [
        "import librosa\n",
        "import soundfile\n",
        "import os, glob, pickle\n",
        "import numpy as np\n",
        "from sklearn.model_selection import train_test_split\n",
        "from sklearn.neural_network import MLPClassifier\n",
        "from sklearn.metrics import accuracy_score\n"
      ]
    },
    {
      "cell_type": "code",
      "source": [
        "def extract_feature(file_name, mfcc, chroma, mel):\n",
        "   with soundfile.SoundFile(file_name) as sound_file:\n",
        "       X = sound_file.read(dtype=\"float32\")\n",
        "       sample_rate=sound_file.samplerate\n",
        "       if chroma:\n",
        "           stft=np.abs(librosa.stft(X))\n",
        "           result=np.array([])\n",
        "       if mfcc:\n",
        "           mfccs=np.mean(librosa.feature.mfcc(y=X, sr=sample_rate, n_mfcc=40).T, axis=0)\n",
        "           result=np.hstack((result, mfccs))\n",
        "       if chroma:\n",
        "           chroma=np.mean(librosa.feature.chroma_stft(S=stft, sr=sample_rate).T,axis=0)\n",
        "           result=np.hstack((result, chroma))\n",
        "       if mel:\n",
        "           mel=np.mean(librosa.feature.melspectrogram(X, sr=sample_rate).T,axis=0)\n",
        "           result=np.hstack((result, mel))\n",
        "return result\n"
      ],
      "metadata": {
        "id": "RnLPCntVydWF"
      },
      "execution_count": null,
      "outputs": []
    },
    {
      "cell_type": "code",
      "source": [
        "emotions={\n",
        " '01':'neutral',\n",
        " '02':'calm',\n",
        " '03':'happy',\n",
        " '04':'sad',\n",
        " '05':'angry',\n",
        " '06':'fearful',\n",
        " '07':'disgust',\n",
        " '08':'surprised'\n",
        "}\n",
        "#DataFlair - Emotions to observe\n",
        "observed_emotions=['calm', 'happy', 'fearful', 'disgust']"
      ],
      "metadata": {
        "id": "JUfk0J9nydaN"
      },
      "execution_count": null,
      "outputs": []
    },
    {
      "cell_type": "code",
      "source": [
        "def load_data(test_size=0.2):\n",
        "   x,y=[],[]\n",
        "   for file in glob.glob(\"D:\\\\DataFlair\\\\ravdess data\\\\Actor_*\\\\*.wav\"):\n",
        "       file_name=os.path.basename(file)\n",
        "       emotion=emotions[file_name.split(\"-\")[2]]\n",
        "       if emotion not in observed_emotions:\n",
        "           continue\n",
        "       feature=extract_feature(file, mfcc=True, chroma=True, mel=True)\n",
        "       x.append(feature)\n",
        "       y.append(emotion)\n",
        "   return train_test_split(np.array(x), y, test_size=test_size, random_state=9)\n"
      ],
      "metadata": {
        "id": "l4H4F4xxyucd"
      },
      "execution_count": null,
      "outputs": []
    },
    {
      "cell_type": "code",
      "source": [
        "x_train,x_test,y_train,y_test=load_data(test_size=0.25)\n"
      ],
      "metadata": {
        "id": "6ME9JxldyugN"
      },
      "execution_count": null,
      "outputs": []
    },
    {
      "cell_type": "code",
      "source": [
        "print((x_train.shape[0], x_test.shape[0]))"
      ],
      "metadata": {
        "id": "H1ID3Lnsy5FF"
      },
      "execution_count": null,
      "outputs": []
    },
    {
      "cell_type": "code",
      "source": [
        "print(f'Features extracted: {x_train.shape[1]}')"
      ],
      "metadata": {
        "id": "sYo_NbXSy7gU"
      },
      "execution_count": null,
      "outputs": []
    },
    {
      "cell_type": "code",
      "source": [
        "model=MLPClassifier(alpha=0.01, batch_size=256, epsilon=1e-08, hidden_layer_sizes=(300,), learning_rate='adaptive', max_iter=500)"
      ],
      "metadata": {
        "id": "WDsUVEUmzAnc"
      },
      "execution_count": null,
      "outputs": []
    },
    {
      "cell_type": "code",
      "source": [
        "model.fit(x_train,y_train)"
      ],
      "metadata": {
        "id": "jlTya7ZhzEas"
      },
      "execution_count": null,
      "outputs": []
    },
    {
      "cell_type": "code",
      "source": [
        "y_pred=model.predict(x_test)"
      ],
      "metadata": {
        "id": "7hxK1CNAzGdz"
      },
      "execution_count": null,
      "outputs": []
    },
    {
      "cell_type": "code",
      "source": [
        "accuracy=accuracy_score(y_true=y_test, y_pred=y_pred)\n",
        "print(\"Accuracy: {:.2f}%\".format(accuracy*100))"
      ],
      "metadata": {
        "id": "NeXy-bZQzLX8"
      },
      "execution_count": null,
      "outputs": []
    }
  ]
}